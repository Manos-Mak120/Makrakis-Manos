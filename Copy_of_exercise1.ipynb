{
  "nbformat": 4,
  "nbformat_minor": 0,
  "metadata": {
    "colab": {
      "provenance": [],
      "include_colab_link": true
    },
    "kernelspec": {
      "name": "python3",
      "display_name": "Python 3"
    },
    "language_info": {
      "name": "python"
    }
  },
  "cells": [
    {
      "cell_type": "markdown",
      "metadata": {
        "id": "view-in-github",
        "colab_type": "text"
      },
      "source": [
        "<a href=\"https://colab.research.google.com/github/Manos-Mak120/Makrakis-Manos/blob/main/Copy_of_exercise1.ipynb\" target=\"_parent\"><img src=\"https://colab.research.google.com/assets/colab-badge.svg\" alt=\"Open In Colab\"/></a>"
      ]
    },
    {
      "cell_type": "markdown",
      "source": [
        "Δημιουργήστε τις παρακάτω μεταβλητές:\n",
        "- όνομα\n",
        "- επώνυμο\n",
        "- αριθμός μητρώου\n",
        "- μάθημα 1\n",
        "- μάθημα 2\n",
        "- μάθημα 3\n",
        "- βαθμός μαθήματος 1\n",
        "- βαθμός μαθήματος 2\n",
        "- βαθμός μαθήματος 3\n",
        "\n",
        "Σε κάθε μεταβλητή δώστε την αντίστοιχη τιμή, με το σωστό τύπο δεδομένων (string, integer).\n",
        "\n",
        "Τυπώστε στην οθόνη (print) τις τιμές όλων των μεταβλητών που ορίσατε.\n",
        "\n",
        "**Hints**:\n",
        "- όπου η τιμή είναι αριθμός, σκεφτείτε αν θα χρησιμοποιήσετε stirng ή integer, ανάλογα με το αν χρειάζεται να κάνετε αργότερα αριθμητικές πράξεις\n",
        "- χρησιμοποιήστε ονόματα μεταβλητών που να έχουν νόημα\n",
        "- εάν γράψετε όλες τις εντολές σε ένα κελί, όταν φτάσετε στο τέλος στο σημείο να γράψετε την εντολή `print`, το colab θα σας προτείνει να γράψετε μέσα στις παρενθέσεις όλες τις μεταβλητές. Πατήστε `tab` για να αποδεχτείτε την πρόταση που σας κάνει."
      ],
      "metadata": {
        "id": "JZISjhuEQFOB"
      }
    },
    {
      "cell_type": "code",
      "source": [
        "Προσωπικά_στοιχεία = [\"Μάνος\",\"Μακράκης\",99832024002]\n",
        "Μαθήματα_Εξαμήνου = {\"Μάθημα_1\" : \"Ανάλυση Μεγάλων Δεδομένων μέσω της Γλώσσας Python\",\"Μάθημα_2\" : \"Ψηφιακά Οργανωμένη Κοινωνική Αλληλεγγύη και Ψηφιακά Μέσα\",\"Μάθημα_3\" : \"Επικοινωνία για Καλό Σκοπό\"}\n",
        "Βαθμοί_Μαθημάτων = {\"Βαθμός_1\":8,\"Βαθμός_2\":10,\"Βαθμός_3\":9}\n",
        "print(Προσωπικά_στοιχεία)\n",
        "print(Μαθήματα_Εξαμήνου)\n",
        "print(Βαθμοί_Μαθημάτων)"
      ],
      "metadata": {
        "colab": {
          "base_uri": "https://localhost:8080/"
        },
        "id": "Bf2KGtRmClYx",
        "outputId": "52e0420e-6362-4d24-d284-4c1e20e80019"
      },
      "execution_count": null,
      "outputs": [
        {
          "output_type": "stream",
          "name": "stdout",
          "text": [
            "['Μάνος', 'Μακράκης', 99832024002]\n",
            "{'Μάθημα_1': 'Ανάλυση Μεγάλων Δεδομένων μέσω της Γλώσσας Python', 'Μάθημα_2': 'Ψηφιακά Οργανωμένη Κοινωνική Αλληλεγγύη και Ψηφιακά Μέσα', 'Μάθημα_3': 'Επικοινωνία για Καλό Σκοπό'}\n",
            "{'Βαθμός_1': 8, 'Βαθμός_2': 10, 'Βαθμός_3': 9}\n"
          ]
        }
      ]
    },
    {
      "cell_type": "markdown",
      "source": [
        "Υπολογίστε το μέσο όρο των βαθμών των 3 μαθημάτων, αποθηκεύστε τον σε μια μεταβλητή και τυπώστε την τιμή της μεταβλητής του μέσου όρου στην οθόνη.\n",
        "\n",
        "**Hints**:\n",
        "- ο μέσος όρος υπολογίζεται με τη φόρμουλα: <άθροισμα επιμέρους τιμών> δια <πλήθος τιμών>\n",
        "- για τον υπολογισμό του μέσου όρου χρησιμοποιήστε τα ονόματα των μεταβλητών των επιμέρους τιμών και όχι τις τιμές τους"
      ],
      "metadata": {
        "id": "uPD0W-qcWcfV"
      }
    },
    {
      "cell_type": "code",
      "source": [
        "Μέσος_Όρος_Βαθμών = (Βαθμοί_Μαθημάτων[\"Βαθμός_1\"]+Βαθμοί_Μαθημάτων[\"Βαθμός_2\"]+Βαθμοί_Μαθημάτων[\"Βαθμός_3\"])/3"
      ],
      "metadata": {
        "id": "Z0OnhXMURzMR"
      },
      "execution_count": null,
      "outputs": []
    },
    {
      "cell_type": "markdown",
      "source": [
        "Τυπώστε στην οθόνη την τιμή του μέσου όρου και τον τύπο δεδομένων της μεταβλητής του μέσου όρου."
      ],
      "metadata": {
        "id": "3lDi2k3iYoWe"
      }
    },
    {
      "cell_type": "code",
      "source": [
        "print(Μέσος_Όρος_Βαθμών)\n",
        "type(Βαθμοί_Μαθημάτων)"
      ],
      "metadata": {
        "id": "ET5xvgxTZAJb",
        "outputId": "e871534d-e4bb-4573-ba7b-2a47d2541185",
        "colab": {
          "base_uri": "https://localhost:8080/"
        }
      },
      "execution_count": null,
      "outputs": [
        {
          "output_type": "stream",
          "name": "stdout",
          "text": [
            "9.0\n"
          ]
        },
        {
          "output_type": "execute_result",
          "data": {
            "text/plain": [
              "dict"
            ]
          },
          "metadata": {},
          "execution_count": 25
        }
      ]
    },
    {
      "cell_type": "markdown",
      "source": [
        "Μετατρέψτε το μέσο όρο σε ακέραιο (integer) και τυπώστε το αποτέλεσμα στην οθόνη."
      ],
      "metadata": {
        "id": "y-QK_9DmZHAF"
      }
    },
    {
      "cell_type": "code",
      "source": [
        "print(int(Μέσος_Όρος_Βαθμών))"
      ],
      "metadata": {
        "id": "VV13wQMoR69T",
        "outputId": "05c00918-1fe7-4eaf-ad69-fb1dcb933424",
        "colab": {
          "base_uri": "https://localhost:8080/"
        }
      },
      "execution_count": null,
      "outputs": [
        {
          "output_type": "stream",
          "name": "stdout",
          "text": [
            "9\n"
          ]
        }
      ]
    },
    {
      "cell_type": "markdown",
      "source": [
        "*Αλλάξτε* τις τιμές των μεταβλητών των βαθμών των μαθημάτων και ξαναϋπολογίστε τον μέσο όρο."
      ],
      "metadata": {
        "id": "2UZvmxOPayZM"
      }
    },
    {
      "cell_type": "code",
      "source": [
        "Βαθμοί_Μαθημάτων[\"Βαθμός_1\"] = 6\n",
        "Βαθμοί_Μαθημάτων[\"Βαθμός_2\"] = 7\n",
        "Βαθμοί_Μαθημάτων[\"Βαθμός_3\"] = 8\n",
        "print(Βαθμοί_Μαθημάτων)"
      ],
      "metadata": {
        "id": "Pt7S8erXeasx",
        "outputId": "dec04d73-e0f2-49a3-c35c-fbacf46719ed",
        "colab": {
          "base_uri": "https://localhost:8080/"
        }
      },
      "execution_count": null,
      "outputs": [
        {
          "output_type": "stream",
          "name": "stdout",
          "text": [
            "{'Βαθμός_1': 6, 'Βαθμός_2': 7, 'Βαθμός_3': 8}\n"
          ]
        }
      ]
    },
    {
      "cell_type": "code",
      "source": [
        "Μέσος_Όρος_Βαθμών = (Βαθμοί_Μαθημάτων[\"Βαθμός_1\"]+Βαθμοί_Μαθημάτων[\"Βαθμός_2\"]+Βαθμοί_Μαθημάτων['Βαθμός_3']) / 3\n",
        "print (Μέσος_Όρος_Βαθμών)\n",
        "type(Βαθμοί_Μαθημάτων)\n",
        "print(int(Μέσος_Όρος_Βαθμών))"
      ],
      "metadata": {
        "id": "kEvSbfpNNBNn",
        "outputId": "a0c52f4b-515c-4d7b-937c-441eed64b905",
        "colab": {
          "base_uri": "https://localhost:8080/"
        }
      },
      "execution_count": null,
      "outputs": [
        {
          "output_type": "stream",
          "name": "stdout",
          "text": [
            "7.0\n",
            "7\n"
          ]
        }
      ]
    },
    {
      "cell_type": "markdown",
      "source": [
        "Δημιουργήστε ένα νέο κελί κώδικα.\n",
        "\n",
        "Μέσα στο κελί γράφει: Start coding or generate with AI. Πατήστε τη λέξη generate.\n",
        "\n",
        "Στο κελί Generate που εμφανίζεται γράψτε ένα prompt με το οποίο να του ζητάτε να αλλάξει τη μεταβλητή grade1 σε 5 και να ξαναϋπολογίσει τον μέσο όρο."
      ],
      "metadata": {
        "id": "1dhIvNXCecFf"
      }
    },
    {
      "cell_type": "code",
      "source": [
        "Βαθμοί_Μαθημάτων = [\"Βαθμός_1\"]\n",
        "print(Βαθμός_1)\n",
        "Βαθμός_1 = 4\n",
        "print(Βαθμός_1)\n",
        "Μέσος_Όρος_Βαθμών = (Βαθμός_1+Βαθμός_2+Βαθμός_3)/3\n",
        "print(Μέσος_Όρος_Βαθμών)\n",
        "print(int(Μέσος_Όρος_Βαθμών))"
      ],
      "metadata": {
        "id": "9yTveSV_bLbV",
        "outputId": "824cc6c0-a3f4-4791-d313-daac404e1ced",
        "colab": {
          "base_uri": "https://localhost:8080/"
        }
      },
      "execution_count": null,
      "outputs": [
        {
          "output_type": "stream",
          "name": "stdout",
          "text": [
            "4\n",
            "4\n",
            "6.333333333333333\n",
            "6\n"
          ]
        }
      ]
    }
  ]
}