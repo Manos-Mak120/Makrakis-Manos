{
  "nbformat": 4,
  "nbformat_minor": 0,
  "metadata": {
    "colab": {
      "provenance": [],
      "include_colab_link": true
    },
    "kernelspec": {
      "name": "python3",
      "display_name": "Python 3"
    },
    "language_info": {
      "name": "python"
    }
  },
  "cells": [
    {
      "cell_type": "markdown",
      "metadata": {
        "id": "view-in-github",
        "colab_type": "text"
      },
      "source": [
        "<a href=\"https://colab.research.google.com/github/Manos-Mak120/Makrakis-Manos/blob/main/Copy_of_exercise3.ipynb\" target=\"_parent\"><img src=\"https://colab.research.google.com/assets/colab-badge.svg\" alt=\"Open In Colab\"/></a>"
      ]
    },
    {
      "cell_type": "markdown",
      "source": [
        "### Άσκηση 1\n",
        "\n",
        "Σ' αυτή την άσκηση θα φτιάξουμε μια λίστα στην οποία θα αποθηκεύουμε δίάφορα δεδομένα από άρθρα που δημοσιεύονται σε sites.\n",
        "\n",
        "Φτιάξτε ένα νέο κελί κώδικα (Code cell) ακριβώς κάτω από αυτό και κάνετε τα παρακάτω:\n",
        "\n",
        "- Δημιουργήστε μια κενή λίστα όπου θα αποθηκεύετε τα δεδομένα των άρθρων\n",
        "- Δημιουργήστε ένα λεξικό με τα στοιχεία του πρώτου άρθρου που θα συλλέξετε από ένα site: \"Τίτλος\", \"Ημερομηνία\", \"Κατηγορία\", \"url\"\n",
        "- Επαναλάβετε το 2 για ακόμα ένα άρθρο\n",
        "- Προσθέστε τα λεξικά στη λίστα.\n",
        "- Τυπώστε στην οθόνη τον τίτλο του 2ου άρθρου\n",
        "- Προσθέστε και στα 2 άρθρα μια εγγραφή με το όνομα του αντίστοιχου site που πήρατε το άρθρο\n",
        "- Τυπώστε στην οθόνη το πλήθος των λεξικών που έχει η λίστα.\n",
        "\n",
        "Tip:Δουλέψτε τμηματικά και ελέγχετε σε κάθε βήμα αυτό που κάνετε."
      ],
      "metadata": {
        "id": "PYkQAeYLq0d5"
      }
    },
    {
      "cell_type": "code",
      "execution_count": null,
      "metadata": {
        "id": "_51_g4biqyte",
        "outputId": "282b698a-81d7-41ec-ff45-033ff38ad492",
        "colab": {
          "base_uri": "https://localhost:8080/"
        }
      },
      "outputs": [
        {
          "output_type": "stream",
          "name": "stdout",
          "text": [
            "Ανανεώνει με Ραφίνια μέχρι το 2029 η Μπαρτσελόνα\n",
            "2\n"
          ]
        }
      ],
      "source": [
        "list1 = []\n",
        "site_1 = {\"Τίτλος\": \"Ελίσα Σλότκιν: Ποια είναι η «εκλεκτή» των Δημοκρατικών που απάντησε στον Τραμπ\",\n",
        "          \"Ημερομηνία\":\"5/3/2025\",\n",
        "          \"Κατηγορία\":\"Πολιτική\",\n",
        "          \"Url\":\"https://www.kathimerini.gr/world\"}\n",
        "site_2 = {\"Τίτλος2\": \"Ανανεώνει με Ραφίνια μέχρι το 2029 η Μπαρτσελόνα\",\n",
        "           \"Ημερομηνία\":\"6/3/2025\",\n",
        "           \"Κατηγορία\":\"Αθλητικά\",\n",
        "           \"url2\":\"https://www.sport-fm.gr/article\"}\n",
        "list1.append(site_1)\n",
        "list1.append(site_2)\n",
        "print(list1[1][\"Τίτλος2\"])\n",
        "list1[0][\"site\"] = \"Καθημερινή\"\n",
        "list1[1][\"site\"] = \"sport-fm\"\n",
        "print(len(list1))"
      ]
    },
    {
      "cell_type": "markdown",
      "source": [
        "\n",
        "\n",
        "---\n",
        "\n"
      ],
      "metadata": {
        "id": "5YTNrgMwvHQb"
      }
    },
    {
      "cell_type": "markdown",
      "source": [
        "### Άσκηση 2\n",
        "\n",
        "Η ακολουθία των αριθμών που δημιουργείται από το άθροισμα ενός αριθμού με τον προηγούμενό του λέγεται ακολουθία [Φιμπονάτσι](https://el.wikipedia.org/wiki/%CE%91%CE%BA%CE%BF%CE%BB%CE%BF%CF%85%CE%B8%CE%AF%CE%B1_%CE%A6%CE%B9%CE%BC%CF%80%CE%BF%CE%BD%CE%AC%CF%84%CF%83%CE%B9).\n",
        "\n",
        "Στο παρακάτω κελί και κάτω από τον υπάρχοντα κώδικα:\n",
        "\n",
        "- φτιάξτε μια for loop που θα τρέχει 22 φορές και\n",
        "- θα φτιάχνει μια μεταβλητή με όνομα c και τιμή το άθροισμα των a και b\n",
        "- θα τυπώνει την τιμή του c\n",
        "- θα αλλάζει την τιμή του a σε b και\n",
        "- θα αλλάζει την τιμή του b σε c\n",
        "- τρέξτε τον κώδικα"
      ],
      "metadata": {
        "id": "omSbKRDDyGb4"
      }
    },
    {
      "cell_type": "code",
      "source": [
        "a = 0\n",
        "b = 1\n",
        "for i in range(22):\n",
        "  c = a + b\n",
        "  print(c)\n",
        "  a = b\n",
        "  b = c"
      ],
      "metadata": {
        "id": "OC0q_aQniYXL",
        "outputId": "bfeeb2a1-ea22-4ee5-ab50-c67d1663c417",
        "colab": {
          "base_uri": "https://localhost:8080/"
        }
      },
      "execution_count": null,
      "outputs": [
        {
          "output_type": "stream",
          "name": "stdout",
          "text": [
            "1\n",
            "2\n",
            "3\n",
            "5\n",
            "8\n",
            "13\n",
            "21\n",
            "34\n",
            "55\n",
            "89\n",
            "144\n",
            "233\n",
            "377\n",
            "610\n",
            "987\n",
            "1597\n",
            "2584\n",
            "4181\n",
            "6765\n",
            "10946\n",
            "17711\n",
            "28657\n"
          ]
        }
      ]
    },
    {
      "cell_type": "markdown",
      "source": [
        "\n",
        "\n",
        "---\n",
        "\n"
      ],
      "metadata": {
        "id": "DmjkxZGvzXy1"
      }
    },
    {
      "cell_type": "markdown",
      "source": [
        "### Άσκηση 3\n",
        "\n",
        "Φτιάξτε ένα νέο κελί κώδικα ακριβώς από κάτω και:\n",
        "\n",
        "- Φτιάξτε μια λίστα με όνομα titlesL και βάλτε μέσα τους τίτλους 3 αγαπημένων σας ταινιών\n",
        "- Φτιάξτε άλλη μια λίστα με όνομα ratingsL και βάλτε μέσα το βαθμό (από το 1 έως το 10) που θα βάζατε σε καθε μια από τις ταινίες\n",
        "- Φτιάξτε μια for loop που να τρέχει για όλα τα αντικείμενα της λίστας των ταινιών και να τυπώνει το όνομά της και το βαθμό της.\n",
        "\n",
        "Hints:\n",
        "Δεδομενου ότι οι δύο λίστες έχουν τον ίδιο αριθμό αντικειμένων και η σειρά των βαθμολογιών αντιστοιχεί στη σειρά των ταινιών, μπορείτε να χρησιμοποιήσετε τον αριθμό του index και την range() σε συνδυασμό με τη len().\n",
        "\n",
        "**Γράψτε σε comment τι κάνει η κάθε γραμμή του κώδικά σας.**\n"
      ],
      "metadata": {
        "id": "QOAgGYGWvJIp"
      }
    },
    {
      "cell_type": "code",
      "source": [
        "titleL = [\"The Godfather\",\"The two Popes\",\"The Untouchables\"]\n",
        "ratingsL = [9,8,7]\n",
        "for i in range(len(titleL)):\n",
        "  print(titleL[i],\" = \",ratingsL[i])"
      ],
      "metadata": {
        "id": "wxuW62Ly2z8q",
        "outputId": "9d24557b-16e0-44de-f82d-73cca55c219f",
        "colab": {
          "base_uri": "https://localhost:8080/"
        }
      },
      "execution_count": null,
      "outputs": [
        {
          "output_type": "stream",
          "name": "stdout",
          "text": [
            "The Godfather  =  9\n",
            "The two Popes  =  8\n",
            "The Untouchables  =  7\n"
          ]
        }
      ]
    },
    {
      "cell_type": "markdown",
      "source": [
        "\n",
        "\n",
        "---\n",
        "\n"
      ],
      "metadata": {
        "id": "6kh_O0w5yEFw"
      }
    },
    {
      "cell_type": "markdown",
      "source": [
        "### Άσκηση 4\n",
        "\n",
        "Φτιάξτε ένα νέο κελί κώδικα ακριβώς από κάτω και:\n",
        "\n",
        "- Φτιάξτε μια λίστα με όνομα titlesL και βάλτε μέσα τους τίτλους 3 αγαπημένων σας ταινιών\n",
        "- Φτιάξτε άλλη μια λίστα με όνομα ratingsL και βάλτε μέσα το βαθμό (από το 1 έως το 10) που θα βάζατε σε καθε μια από τις ταινίες\n",
        "\n",
        "**Αν κάνατε την προηγούμενη άσκηση, χρησιμοποιήστε τις ήδη δημιουργημένες λίστες titlesL και ratingsL - δλδ μην φτιάξετε καινούριες λίστες για το ίδιο πράγμα**\n",
        "\n",
        "- Φτιάξτε μια κενή λίστα με όνομα moviesL\n",
        "\n",
        "Φτιάξτε μια for loop που να τρέχει για όλα τα indexes της λίστας των ταινιών και να κάνει τα παρακάτω:\n",
        "- δημιουργεί ένα κενό λεξικό με όνομα movieD\n",
        "- φτιάχνει ένα item στο λεξικό με όνομα κλειδιού \"title\" και τιμή τον τίτλο που αντιστοιχεί στο εκάστοτε index της λίστας titlesL\n",
        "- φτιάχνει ένα item στο λεξικό με όνομα κλειδιού \"rating\" και τιμή το rating που αντιστοιχεδί στο εκάστοτε index της λίστας ratingsL\n",
        "- προσθέτει το λεξικό στη λίστα moviesL\n",
        "\n",
        "Τέλος, τυπώστε τη λίστα moviesL.\n",
        "\n",
        "**Γράψτε σε comment τι κάνει η κάθε γραμμή του κώδικά σας.**\n"
      ],
      "metadata": {
        "id": "TjFqUapc0JMr"
      }
    },
    {
      "cell_type": "code",
      "source": [
        "titleL = [\"The Godfather\",\"The two Popes\",\"The Untouchables\"] # Φτιάχνουμε τη λίστα με τις ταινίες.\n",
        "ratingsL = [9,8,7]                                            # Ορίζουμε τη βαθμολογία της κάθε ταινίας."
      ],
      "metadata": {
        "id": "gDcAB6eG8AbC"
      },
      "execution_count": null,
      "outputs": []
    },
    {
      "cell_type": "code",
      "source": [
        "moviesL = []                                                 # Δημιουργία της κενής λίστας moviesL\n",
        "for i in range(len(titleL)):                                 # for loop μεταβλητή για τα indexes των ταινιών.\n",
        "  movieD = {}                                                # Δημιουργία το κενό λεξικό moviesD\n",
        "  movieD[\"title\"] = titleL[i]                                # Το item του λεξικού title- το οποίο αντιστοιχεί στο εκάστοτε index της λίστας title\n",
        "  movieD[\"ratings\"] = ratingsL[i]                            # Το item του λεξικού ratings- το οποίο αντιστοιχεί στο εκάστοτε index της λίστας ratings\n",
        "  moviesL.append(movieD)                                     # Προσθήκη του λεξικού moviesD στη λίστα moviesL"
      ],
      "metadata": {
        "id": "mflUHxIPleGX"
      },
      "execution_count": null,
      "outputs": []
    },
    {
      "cell_type": "code",
      "source": [
        "  print(moviesL)                                             # Τυπώνω τη λίστα moviesL"
      ],
      "metadata": {
        "id": "1po9S6qTpR6Z",
        "outputId": "a6af6e3f-3ecf-4ffc-91d5-d3ef67e3c866",
        "colab": {
          "base_uri": "https://localhost:8080/"
        }
      },
      "execution_count": null,
      "outputs": [
        {
          "output_type": "stream",
          "name": "stdout",
          "text": [
            "[{'title': 'The Godfather', 'ratings': 9}, {'title': 'The two Popes', 'ratings': 8}, {'title': 'The Untouchables', 'ratings': 7}]\n"
          ]
        }
      ]
    }
  ]
}