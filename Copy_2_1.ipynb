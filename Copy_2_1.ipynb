{
  "nbformat": 4,
  "nbformat_minor": 0,
  "metadata": {
    "colab": {
      "provenance": [],
      "include_colab_link": true
    },
    "kernelspec": {
      "name": "python3",
      "display_name": "Python 3"
    },
    "language_info": {
      "name": "python"
    }
  },
  "cells": [
    {
      "cell_type": "markdown",
      "metadata": {
        "id": "view-in-github",
        "colab_type": "text"
      },
      "source": [
        "<a href=\"https://colab.research.google.com/github/Manos-Mak120/Makrakis-Manos/blob/main/Copy_2_1.ipynb\" target=\"_parent\"><img src=\"https://colab.research.google.com/assets/colab-badge.svg\" alt=\"Open In Colab\"/></a>"
      ]
    },
    {
      "cell_type": "markdown",
      "source": [
        "### **Άσκηση 1**:\n",
        "\n",
        "Χρησιμοποιώντας τις ιδιότητες/λειτουργίες των λιστών, υπολογίστε το μέσο όρο των βαθμών σε 3 μαθήματα, με 2 τρόπους, που περιγράφονται στα hints.\n",
        "\n",
        "Στη συνέχεια προσθέστε το βαθμό ενός ακόμα μαθήματος και ξαναϋπολογίστε το μέσο όρο και στρογγυλοποιήστε τον ώστε να μην έχει κανένα δεκαδικό ψηφίο.\n",
        "\n",
        "Τέλος, βρείτε το μεγαλύτερο βαθμό, τον μικρότερο βαθμό και το πλήθος των βαθμών.\n",
        "\n",
        "*Hints*:\n",
        "- φτιάξτε μια μεταβλητή για το βαθμό κάθε μαθήματος\n",
        "- φτιάξτε μια λίστα που θα περιέχει τις παραπάνω μεταβλητές\n",
        "- χρησιμοποιήστε τη συνάρτηση ```mean``` της βιβλιοθήκης ```statistics``` για να υπολογίσετε το μέσο όρο (from statistics import mean) - 1ος τρόπος\n",
        "- χρησιμοποιήστε τις συναρτήσεις ```sum()``` και ```len()``` για λίστες, για να εφαρμόσετε τον τύπο υπολογισμού του μέσου όρου: ```<άθροισμα βαθμών> / <πλήθος βαθμών>``` - 2ος τρόπος\n",
        "- χρησιμοποιήστε τη συνάρτηση ```round()``` για να στογγυλοποιήσετε το μέσο όρο\n",
        "- χρησιμοποιήστε τις συναρτήσεις ```max()```, ```min()``` και ```len()``` για να βρείτε αντίστοιχα το μεγαλύτερο βαθμό, τον μικρότερο βαθμό και το πλήθος των βαθμών\n",
        "\n",
        "*Tips*:\n",
        "- γράψτε μία-μία τις εντολές σε διαφορετικά κελιά και τυπώνετε το αποτέλεσμα της κάθε εντολής για να ελέγχετε το τι κάνετε\n",
        "- συμβουλευτείτε / αποδεχθείτε τις προτάσεις που σας κάνει το Gemini καθώς πληκτρολογείτε τις εντολές, πατώντας Tab - κάνετε διορθώσεις όπου χρειάζεται.\n"
      ],
      "metadata": {
        "id": "rUaKYeb1UuMb"
      }
    },
    {
      "cell_type": "code",
      "source": [
        "#Πρώτος Τρόπος\n",
        "from statistics import mean\n",
        "Grade_1 = 8\n",
        "Grade_2 = 9\n",
        "Grade_3 = 7.5\n",
        "Grade_list = [Grade_1, Grade_2, Grade_3]\n",
        "Grade_list_mean = mean(Grade_list)\n",
        "print(\"Μέσος όρος (1ος τρόπος):\", Grade_list_mean)"
      ],
      "metadata": {
        "id": "k8V_N7g6mKen",
        "outputId": "433fb6ea-26f9-43dd-f714-0a6f571b75b7",
        "colab": {
          "base_uri": "https://localhost:8080/"
        }
      },
      "execution_count": null,
      "outputs": [
        {
          "output_type": "stream",
          "name": "stdout",
          "text": [
            "Μέσος όρος (1ος τρόπος): 8.166666666666666\n"
          ]
        }
      ]
    },
    {
      "cell_type": "code",
      "source": [
        "Grade_4 = 10\n",
        "Grade_list.append(Grade_4)\n",
        "New_Grade_list_mean = round(mean(Grade_list))\n",
        "print(\"Νέος μέσος όρος (με στρογγυλοποίηση):\", New_Grade_list_mean)"
      ],
      "metadata": {
        "id": "CF17TBkWmJYc",
        "outputId": "85078ef4-d18e-4c6e-cc9c-8ad1c28afdc4",
        "colab": {
          "base_uri": "https://localhost:8080/"
        }
      },
      "execution_count": null,
      "outputs": [
        {
          "output_type": "stream",
          "name": "stdout",
          "text": [
            "Νέος μέσος όρος (με στρογγυλοποίηση): 9\n"
          ]
        }
      ]
    },
    {
      "cell_type": "code",
      "source": [
        "#Δεύτερος Τρόπος\n",
        "Grade_list.remove(Grade_4)\n",
        "grade_list_mean_2 = sum(Grade_list) / len(Grade_list)\n",
        "print(\"Μέσος όρος (2ος τρόπος):\", grade_list_mean_2)"
      ],
      "metadata": {
        "id": "fOBC_FPWXFfZ",
        "outputId": "d8add881-cd94-4185-df68-186b87fe6077",
        "colab": {
          "base_uri": "https://localhost:8080/"
        }
      },
      "execution_count": null,
      "outputs": [
        {
          "output_type": "stream",
          "name": "stdout",
          "text": [
            "Μέσος όρος (2ος τρόπος): 8.166666666666666\n"
          ]
        }
      ]
    },
    {
      "cell_type": "code",
      "source": [
        "Grade_list.append(Grade_4)\n",
        "grade_list_mean_2 = sum(Grade_list) / len(Grade_list)\n",
        "print(\"Μέσος όρος (2ος τρόπος):\", grade_list_mean_2)\n",
        "print(\"Νέος μέσος όρος (με στρογγυλοποίηση):\", round(grade_list_mean_2))"
      ],
      "metadata": {
        "id": "nNwzBMRMXK0p",
        "outputId": "afc722e2-0fa8-4486-94c1-478999392e68",
        "colab": {
          "base_uri": "https://localhost:8080/"
        }
      },
      "execution_count": null,
      "outputs": [
        {
          "output_type": "stream",
          "name": "stdout",
          "text": [
            "Μέσος όρος (2ος τρόπος): 8.625\n",
            "Νέος μέσος όρος (με στρογγυλοποίηση): 9\n"
          ]
        }
      ]
    },
    {
      "cell_type": "markdown",
      "source": [
        "\n",
        "\n",
        "---\n",
        "\n"
      ],
      "metadata": {
        "id": "nQ3CwAZKdbX9"
      }
    },
    {
      "cell_type": "markdown",
      "source": [
        "### **Άσκηση 2**:\n",
        "\n",
        "Μια συνήθης τυποποιημένη μορφή καταγραφής της ημερομηνίας δημοσίευσης των άρθρων στα ειδησεογραφικά sites είναι η εξής: ```2025-03-04T12:07:19+02:00``` και ονομάζεται ```datetime```.\n",
        "\n",
        "- το κομμάτι ```2025-03-04``` αναφέρεται στα ```έτος-μήνας-ημέρα```\n",
        "- το ```Τ``` υποδηλώνει ότι ακολουθεί η ώρα\n",
        "- το κομμάτι ```12:07:19``` αναφέρεται στα ```ώρα:λεπτά:δευτερόλεπτα```\n",
        "- το κομμάτι ```+02:00``` αναφέρεται στη διαφορά ώρας σε σχέση με την Παγκόσμια Συντονισμένη Ώρα (UTC - Coordinated Universal Time).\n",
        "\n",
        "**Άσκηση 2**:\n",
        "\n",
        "Ξεκινώντας από μια μεταβλητή με όνομα dateTime και τιμή την παραπάνω ημερομηνία-ώρα (2025-03-04T12:07:19+02:00), δημιουργήστε δύο μεταβλητές με ονόματα Date και Time στις οποίες θα αποθηκεύσετε αντίστοιχα την ημερομηνία και την ώρα.\n",
        "\n",
        "Στη συνέχεια, χρησιμοποιώντας τις μεταβλητές Date και Time που φτιάξατε, δημιουργήστε μια νέα μεταβλητή με όνομα custom_datetime η τιμή της οποίας θα είναι ένα string που θα περιέχει την ημέρομηνία και την ώρα στη μορφή: \"έτος, μήνας, ημέρα, ώρα:λεπτά:δευτερόλεπτα\" και τυπώστε τη στην οθόνη.\n",
        "\n",
        "*Hints*:\n",
        "- η τιμή της μεταβλητής dateTime είναι string, άρα μπορούμε να δουλέψουμε με αυτή σαν να είναι λίστα και να απομονώσουμε κομμάτια της χρησιμοποιώντας το index του πρώτου χαρακτήρα και του επόμενου από τον τελευταίο χαρακτήρα που θέλουμε (π.χ. dateTime[firstIndex:lastIndex+1])\n",
        "- ο επόμενος από τον τελευταίο χαρακτήρα της ημερομηνίας είναι το \"Τ\"\n",
        "- ο επόμενος από τον τελευταίο χαρακτήρα της ώρας είναι το \"+\"\n",
        "- μπορούμε να βρούμε το index ενός χαρακτήρα σε ένα string με τη μέθοδο index()\n",
        "- μπορούμε να αντικαταστήσουμε έναν χαρακτήρα σε ένα string με έναν άλλο χαρακτήρα με την εντολή replace(). Π.χ. μπορούμε να αντικαταστήσουμε σε ένα string τα κόμματα με τελείες με την εντολή string1.replace(\",\", \".\")\n",
        "- μπορούμε να ενώσουμε strings με το +. Π.χ. string3 = string1 + \", \" + string2 (το \", \" παρεμβάλει ανάμεσα στα αρχικά strings ένα κόμμα ακολουθούμενο από ένα κενό)\n",
        "\n",
        "*Tips*:\n",
        "- γράψτε μία-μία τις εντολές σε διαφορετικά κελιά και τυπώνετε το αποτέλεσμα της κάθε εντολής για να ελέγχετε το τι κάνετε\n",
        "- συμβουλευτείτε / αποδεχθείτε τις προτάσεις που σας κάνει το Gemini καθώς πληκτρολογείτε τις εντολές, πατώντας Tab - κάνετε διορθώσεις όπου χρειάζεται.\n",
        "\n"
      ],
      "metadata": {
        "id": "BQA7FXLgFHKA"
      }
    },
    {
      "cell_type": "code",
      "source": [
        "dateTime = \"2025-03-04T12:07:19+02:00\"\n",
        "date = dateTime[:10]\n",
        "time = dateTime[11:19]\n",
        "custom_datetime = date.replace(\"-\" ,\",\") + \", \" + time\n",
        "print(custom_datetime)"
      ],
      "metadata": {
        "id": "GQQiFt25Wtqt",
        "colab": {
          "base_uri": "https://localhost:8080/"
        },
        "outputId": "12447615-62a1-49d8-a673-56c701c30609"
      },
      "execution_count": null,
      "outputs": [
        {
          "output_type": "stream",
          "name": "stdout",
          "text": [
            "2025,03,04, 12:07:19\n"
          ]
        }
      ]
    },
    {
      "cell_type": "markdown",
      "source": [
        "\n",
        "\n",
        "---\n",
        "\n"
      ],
      "metadata": {
        "id": "msY4V_-QlRQU"
      }
    },
    {
      "cell_type": "markdown",
      "source": [
        "### **Άσκηση Bonus (για τους πιο πορωμένους/ες 😃)** [μη βαθμολογήσιμη]\n",
        "\n",
        "Εκτός από τις συναρτήσεις που είναι ενσωματωμένες στην Python ή περιέχονται σε βιβλιοθήκες που μπορούμε να εισάγουμε (όπως η βιβλιοθήκη Statistics που είδαμε), μπορούμε να φτιάξουμε και δικές μας συναρτήσεις.\n",
        "\n",
        "Ο τρόπος κατασκευής δικών μας συναρτήσεων παρουσιάζεται παρακάτω:"
      ],
      "metadata": {
        "id": "m488rAGkebdJ"
      }
    },
    {
      "cell_type": "code",
      "source": [
        "def calculate_avg(list_name):\n",
        "  avg = sum(list_name) / len(list_name)\n",
        "  return avg"
      ],
      "metadata": {
        "id": "RvYcpxm0fO1N"
      },
      "execution_count": null,
      "outputs": []
    },
    {
      "cell_type": "markdown",
      "source": [
        "Με τον παραπάνω κώδικα, με την εντολή ```def```, κατασκευάσαμε μια συνάρτηση με όνομα ```calculate_avg```.\n",
        "\n",
        "Μέσα στην παρένθεση ορίσαμε ότι η παράμετρος που δέχεται η συνάρτηση που κατασκευάζουμε, είναι το όνομα μιας λίστας ```(list_name)```.\n",
        "\n",
        "Στη συνέχεια ορίζουμε τον τύπο με τον οποίο θα υπολογίζουμε τον μέσο όρο, χρησιμοποιώντας το όνομα της λίστας που θα δίνεται σαν παράμετρος όταν καλούμε τη συνάρτηση (εξηγείται παρισσότερο παρακάτω).\n",
        "\n",
        "Τέλος, με την εντολή ```return``` επιστρέφουμε το αποτέλεσμα του υπολογισμού του μέσου όρου.\n",
        "\n",
        "**Προσοχή**: ο κώδικας μέσα στον ορισμό της συνάρτησης είναι intented, δηλαδή με εσοχή.\n"
      ],
      "metadata": {
        "id": "tQDe0GrxfhiE"
      }
    },
    {
      "cell_type": "markdown",
      "source": [
        "Με τον παραπάνω κώδικα κατασκευάσαμε τη συνάρτηση, την οποία πλέον μπορούμε να καλούμε με το όνομά της."
      ],
      "metadata": {
        "id": "krBasSd0hK9e"
      }
    },
    {
      "cell_type": "code",
      "source": [
        "my_gradesL = [10, 7, 6, 9, 8, 9]\n",
        "avg = calculate_avg(my_gradesL)\n",
        "print(avg)"
      ],
      "metadata": {
        "colab": {
          "base_uri": "https://localhost:8080/"
        },
        "id": "OqwYgElufgWX",
        "outputId": "55b1bb26-0f00-47fb-c393-f060fb68c58f"
      },
      "execution_count": null,
      "outputs": [
        {
          "output_type": "stream",
          "name": "stdout",
          "text": [
            "8.166666666666666\n"
          ]
        }
      ]
    },
    {
      "cell_type": "markdown",
      "source": [
        "Αν στην παραπάνω συνάρτηση ενσωματώσουμε και μια γραμμή κώδικα που θα κάνει σρογγυλοποίηση του avg σε 1 δεκαδικό, στην ουσία έχουμε φτιάξει τη συνάρτηση mean της βιβλιοθήκης statistics.\n",
        "\n",
        "Ή αλλιώς διατυπωμένο: ένας τέτοιος κώδικας τρέχει (κρυφά, από πίσω) όταν καλούμε την εντολή mean() της βιβλιοθήκης statistics."
      ],
      "metadata": {
        "id": "zYIgJEtNh3-j"
      }
    },
    {
      "cell_type": "code",
      "source": [
        "def calculate_avg(list_name):\n",
        "  avg = sum(list_name) / len(list_name)\n",
        "  avg = round(avg, 1)\n",
        "  return avg"
      ],
      "metadata": {
        "id": "Yy0zQjR3idKu"
      },
      "execution_count": null,
      "outputs": []
    },
    {
      "cell_type": "code",
      "source": [
        "avg = calculate_avg(my_gradesL)\n",
        "print(avg)"
      ],
      "metadata": {
        "colab": {
          "base_uri": "https://localhost:8080/"
        },
        "id": "jCISqqZlimL8",
        "outputId": "2f7d46fd-3cbd-45ce-a5a5-335c64f8e121"
      },
      "execution_count": null,
      "outputs": [
        {
          "output_type": "stream",
          "name": "stdout",
          "text": [
            "8.2\n"
          ]
        }
      ]
    },
    {
      "cell_type": "markdown",
      "source": [
        "### **Άσκηση Bonus**:\n",
        "\n",
        "Φτιάξτε μια συνάρτηση (με όνομα κάτι σαν \"date_from_datetime\"), η οποία θα παίρνει ένα datetime string και θα επιστρέφει μόνο την ημερομηνία (δηλαδή μόνο το μέρος \"έτος:μήνας:ημέρα\").\n",
        "\n",
        "*Tip*: Συμβουλευτείτε / αποδεχτείτε τις προτάσεις που σας κάνει το Gemini καθώς γράφετε τον κώδικα στα code shells."
      ],
      "metadata": {
        "id": "l_jDiXpVi2rf"
      }
    }
  ]
}